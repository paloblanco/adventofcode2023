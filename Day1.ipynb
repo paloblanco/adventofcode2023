{
 "cells": [
  {
   "cell_type": "markdown",
   "id": "dfa69b88-2c6a-4868-8def-36ff80e163c8",
   "metadata": {},
   "source": [
    "# Advent of Code 2023: Day 1\n",
    "\n",
    "This is where I am solving the first day's problem.\n",
    "\n",
    "I have also discovered, while working on this, that copy-pasting from the website into markdown fields in a notebook is kind of buggy. Annoying :( . "
   ]
  },
  {
   "cell_type": "markdown",
   "id": "c5fe7ad1-295e-4543-a2e3-07bbb82d02a6",
   "metadata": {},
   "source": [
    "### Part 1:\n",
    "\n",
    "For each line, combing the first digit which appears and the final digit which appears. Sum all of these numbers to get the answer."
   ]
  },
  {
   "cell_type": "code",
   "execution_count": 6,
   "id": "660d693d-da6b-476f-a2f5-e1031518091b",
   "metadata": {},
   "outputs": [],
   "source": [
    "test_input = \"\"\"1abc2\n",
    "pqr3stu8vwx\n",
    "a1b2c3d4e5f\n",
    "treb7uchet\"\"\""
   ]
  },
  {
   "cell_type": "code",
   "execution_count": 22,
   "id": "73f9600e-ef33-4ff1-8b9f-7eb5563819a1",
   "metadata": {},
   "outputs": [],
   "source": [
    "def solve_day_one(rows_of_numbers):\n",
    "    # for every line in input, return a number consisting of first and last numbers\n",
    "    list_of_strings = rows_of_numbers.split(\"\\n\")\n",
    "    number_characters = [\"0\",\"1\",\"2\",\"3\",\"4\",\"5\",\"6\",\"7\",\"8\",\"9\"]\n",
    "    number_list = []\n",
    "    for characters in list_of_strings:\n",
    "        new_string = \"\"\n",
    "        for letter in characters:\n",
    "            if letter in number_characters: # this checks if the character is actually numeric\n",
    "                new_string += letter\n",
    "        new_string = new_string[0] + new_string[-1]\n",
    "        new_number = int(new_string)\n",
    "        number_list.append(new_number)\n",
    "    return sum(number_list)"
   ]
  },
  {
   "cell_type": "code",
   "execution_count": 23,
   "id": "a96eeee2-543e-42f7-96ba-49ebdac6cd04",
   "metadata": {},
   "outputs": [
    {
     "data": {
      "text/plain": [
       "142"
      ]
     },
     "execution_count": 23,
     "metadata": {},
     "output_type": "execute_result"
    }
   ],
   "source": [
    "solve_day_one(test_input)"
   ]
  },
  {
   "cell_type": "code",
   "execution_count": 29,
   "id": "f2358bd0-f7b9-417d-a852-177b7672ff80",
   "metadata": {},
   "outputs": [
    {
     "name": "stdout",
     "output_type": "stream",
     "text": [
      "3.57 ms ± 17.3 µs per loop (mean ± std. dev. of 7 runs, 100 loops each)\n"
     ]
    }
   ],
   "source": [
    "%%timeit\n",
    "solve_day_one(real_input)"
   ]
  },
  {
   "cell_type": "markdown",
   "id": "b2e5a5c6-e45e-46ea-84b6-4aac7a0975f4",
   "metadata": {},
   "source": [
    "### Part 2\n",
    "Numbers can be spelled out as well! test answer is 281."
   ]
  },
  {
   "cell_type": "code",
   "execution_count": 35,
   "id": "b09d7e7c-e274-43da-8ac0-f6f5c81f9d0f",
   "metadata": {},
   "outputs": [],
   "source": [
    "test_input2 = \"\"\"two1nine\n",
    "eightwothree\n",
    "abcone2threexyz\n",
    "xtwone3four\n",
    "4nineeightseven2\n",
    "zoneight234\n",
    "7pqrstsixteen\"\"\""
   ]
  },
  {
   "cell_type": "code",
   "execution_count": 60,
   "id": "943cbe4c-a51b-49f0-8fe3-9693ee160ccf",
   "metadata": {},
   "outputs": [],
   "source": [
    "def solve_day_one_part2(rows_of_numbers):\n",
    "    list_of_strings = rows_of_numbers.split(\"\\n\")\n",
    "    number_characters = [\"0\",\"1\",\"2\",\"3\",\"4\",\"5\",\"6\",\"7\",\"8\",\"9\"]\n",
    "    number_names = [\"zero\",\"one\",\"two\",\"three\",\"four\",\"five\",\"six\",\"seven\",\"eight\",\"nine\"]\n",
    "    running_sum = 0\n",
    "    for row in list_of_strings:\n",
    "        # need to check for every one, get indices, sum them up\n",
    "        first_digit = \"0\"\n",
    "        first_idx = 1000 # arbitrarily large so it gets overwritten\n",
    "        second_digit = \"0\"\n",
    "        second_idx = -1 #small so it gets overwritten\n",
    "        for number in number_characters:\n",
    "            if number in row:\n",
    "                this_idx = row.index(number)\n",
    "                if this_idx < first_idx: # if this occurs before the current first number, overwrite it\n",
    "                    first_idx = this_idx\n",
    "                    first_digit = number\n",
    "                this_idx = row.rindex(number) #search from the end of the string, to try and find the last numbers\n",
    "                if this_idx > second_idx: # if this occurs after the current second number, overwrite it\n",
    "                    second_idx = this_idx\n",
    "                    second_digit = number\n",
    "        for word in number_names: #do the same thing for the words\n",
    "            if word in row:\n",
    "                this_idx = row.index(word)\n",
    "                if this_idx < first_idx:\n",
    "                    first_idx = this_idx\n",
    "                    first_digit = number_characters[number_names.index(word)] # i want the number, not the word\n",
    "                this_idx = row.rindex(word)\n",
    "                if this_idx > second_idx:\n",
    "                    second_idx = this_idx\n",
    "                    second_digit = number_characters[number_names.index(word)] # i want the number, not the word\n",
    "        number = int(first_digit + second_digit)\n",
    "        running_sum += number\n",
    "    return running_sum\n",
    "                    \n",
    "        "
   ]
  },
  {
   "cell_type": "code",
   "execution_count": 61,
   "id": "0e3d3ee0-9aa8-4c90-b339-b3df8191ead7",
   "metadata": {},
   "outputs": [
    {
     "data": {
      "text/plain": [
       "281"
      ]
     },
     "execution_count": 61,
     "metadata": {},
     "output_type": "execute_result"
    }
   ],
   "source": [
    "solve_day_one_part2(test_input2)"
   ]
  },
  {
   "cell_type": "code",
   "execution_count": 62,
   "id": "8a33c13b-b7e5-4ee9-afba-d63ea3f8a71e",
   "metadata": {},
   "outputs": [
    {
     "data": {
      "text/plain": [
       "54518"
      ]
     },
     "execution_count": 62,
     "metadata": {},
     "output_type": "execute_result"
    }
   ],
   "source": [
    "solve_day_one_part2(real_input)"
   ]
  },
  {
   "cell_type": "code",
   "execution_count": null,
   "id": "fa995f38-3350-414a-92d5-da74719a3142",
   "metadata": {},
   "outputs": [],
   "source": []
  }
 ],
 "metadata": {
  "kernelspec": {
   "display_name": "Python 3 (ipykernel)",
   "language": "python",
   "name": "python3"
  },
  "language_info": {
   "codemirror_mode": {
    "name": "ipython",
    "version": 3
   },
   "file_extension": ".py",
   "mimetype": "text/x-python",
   "name": "python",
   "nbconvert_exporter": "python",
   "pygments_lexer": "ipython3",
   "version": "3.10.4"
  }
 },
 "nbformat": 4,
 "nbformat_minor": 5
}
