{
 "cells": [
  {
   "cell_type": "markdown",
   "id": "37019ad1-0075-478e-91e5-afdb9103dbd6",
   "metadata": {},
   "source": [
    "# Day 2\n",
    "## Part 1 Problem Statement\n",
    "<p>You're launched high into the atmosphere! The apex of your trajectory just barely reaches the surface of a large island floating in the sky. You gently land in a fluffy pile of leaves. It's quite cold, but you don't see much snow. An Elf runs over to greet you.</p>\r\n",
    "<p>The Elf explains that you've arrived at <em>Snow Island</em> and apologizes for the lack of snow. He'll be happy to explain the situation, but it's a bit of a walk, so you have some time. They don't get many visitors up here; <span title=\"No, the Elf's name is not 'WOPR'. It's Joshua.\">would you like to play a game</span> in the meantime?</p>\r\n",
    "<p>As you walk, the Elf shows you a small bag and some cubes which are either red, green, or blue. Each time you play this game, he will hide a secret number of cubes of each color in the bag, and your goal is to figure out information about the number of cubes.</p>\r\n",
    "<p>To get information, once a bag has been loaded with cubes, the Elf will reach into the bag, grab a handful of random cubes, show them to you, and then put them back in the bag. He'll do this a few times per game.</p>\r\n",
    "<p>You play several games and record the information from each game (your puzzle input). Each game is listed with its ID number (like the <code>11</code> in <code>Game 11: ...</code>) followed by a semicolon-separated list of subsets of cubes that were revealed from the bag (like <code>3 red, 5 green, 4 blue</code>).</p>\r\n",
    "<p>For example, the record of a few games might look like this:</p>\r\n",
    "<pre><code>Game 1: 3 blue, 4 red; 1 red, 2 green, 6 blue; 2 green\r\n",
    "Game 2: 1 blue, 2 green; 3 green, 4 blue, 1 red; 1 green, 1 blue\r\n",
    "Game 3: 8 green, 6 blue, 20 red; 5 blue, 4 red, 13 green; 5 green, 1 red\r\n",
    "Game 4: 1 green, 3 red, 6 blue; 3 green, 6 red; 3 green, 15 blue, 14 red\r\n",
    "Game 5: 6 red, 1 blue, 3 green; 2 blue, 1 red, 2 green\r\n",
    "</code></pre>\r\n",
    "<p>In game 1, three sets of cubes are revealed from the bag (and then put back again). The first set is 3 blue cubes and 4 red cubes; the second set is 1 red cube, 2 green cubes, and 6 blue cubes; the third set is only 2 green cubes.</p>\r\n",
    "<p>The Elf would first like to know which games would have been possible if the bag contained <em>only 12 red cubes, 13 green cubes, and 14 blue cubes</em>?</p>\r\n",
    "<p>In the example above, games 1, 2, and 5 would have been <em>possible</em> if the bag had been loaded with that configuration. However, game 3 would have been <em>impossible</em> because at one point the Elf showed you 20 red cubes at once; similarly, game 4 would also have been <em>impossible</em> because the Elf showed you 15 blue cubes at once. If you add up the IDs of the games that would have been possible, you get <code><em>8</em></code>.</p>\r\n",
    "<p>Determine which games would have been possible if the bag had been loaded with only 12 red cubes, 13 green cubes, and 14 blue cubes. <em>What is the sum of the IDs of those games?</em></p>"
   ]
  },
  {
   "cell_type": "markdown",
   "id": "1535ced5-0a1a-4387-8a20-1d646985d4f3",
   "metadata": {},
   "source": [
    "## Part 1 Strategy\n",
    "\n",
    "Seems easy. Just check each line for invalid pulls, invalid being if any of the cubes pulled exceed what is in the bag.\n",
    "\n",
    "Most of this problem is parsing the data. I need to convert the input data into something like this:\n",
    "\n",
    "```\n",
    "{1: [\n",
    "        {\n",
    "        blue: 3,\n",
    "        red: 4,\n",
    "        green: 0,\n",
    "        },\n",
    "        {\n",
    "        blue: 6,\n",
    "        red: 1,\n",
    "        green: 2,\n",
    "        },\n",
    "    ],\n",
    "2: ...\n",
    "}\n",
    "```\n",
    "then just check each numbered key for any invalid games."
   ]
  },
  {
   "cell_type": "code",
   "execution_count": 3,
   "id": "b240a8eb-17c8-4785-8d33-76d7261f63ea",
   "metadata": {},
   "outputs": [],
   "source": [
    "test_part1 = \"\"\"Game 1: 3 blue, 4 red; 1 red, 2 green, 6 blue; 2 green\n",
    "Game 2: 1 blue, 2 green; 3 green, 4 blue, 1 red; 1 green, 1 blue\n",
    "Game 3: 8 green, 6 blue, 20 red; 5 blue, 4 red, 13 green; 5 green, 1 red\n",
    "Game 4: 1 green, 3 red, 6 blue; 3 green, 6 red; 3 green, 15 blue, 14 red\n",
    "Game 5: 6 red, 1 blue, 3 green; 2 blue, 1 red, 2 green\"\"\""
   ]
  },
  {
   "cell_type": "code",
   "execution_count": 28,
   "id": "45250edc-8e97-4193-b0d0-28260ec4b2a2",
   "metadata": {},
   "outputs": [],
   "source": [
    "import re # use regex to find some information in strings\n",
    "\n",
    "def get_round_dict_from_str(round: str) -> dict[str,int]:\n",
    "    round_dict = {\"red\": 0, \"blue\": 0, \"green\": 0}\n",
    "    round_data = round.split(\",\")\n",
    "    for pull in round_data:\n",
    "        pull = pull.strip()\n",
    "        number, color = re.findall(\"([0-9]+) (blue|red|green)\", pull)[0] # returns a tuple, number then color\n",
    "        number = int(number)\n",
    "        round_dict[color] = number\n",
    "    return round_dict\n",
    "\n",
    "def get_single_game_stats_from_string(game: str) -> list[dict[str,int]]:\n",
    "    game = game.split(\":\")[1].strip() # get rid of game part, strip whitespace from sides\n",
    "    rounds_list = game.split(\";\")\n",
    "    rounds_results = []\n",
    "    for round in rounds_list:\n",
    "        round_result = get_round_dict_from_str(round)\n",
    "        rounds_results.append(round_result)\n",
    "    return rounds_results\n",
    "    \n",
    "def get_games_stats_from_string(puzzle_string: str) -> dict[int, list[dict[str,int]]]:\n",
    "    games_by_line = puzzle_string.split(\"\\n\")\n",
    "    games_stats = {}\n",
    "    for game in games_by_line:\n",
    "        game_num = int(re.findall(\"Game ([0-9]+):\", game)[0]) # returns only the number\n",
    "        list_of_games = get_single_game_stats_from_string(game)\n",
    "        games_stats[game_num] = list_of_games\n",
    "    return games_stats\n",
    "        \n",
    "def part1(puzzle_string: str) -> int:\n",
    "    limit_lookup = {\n",
    "        \"red\":12,\n",
    "        \"blue\":14,\n",
    "        \"green\":13,\n",
    "    }\n",
    "    games_stats_lookup = get_games_stats_from_string(puzzle_string)\n",
    "    valid_games = []\n",
    "    for game_num, stats_games in games_stats_lookup.items():\n",
    "        game_valid = True\n",
    "        for round in stats_games:\n",
    "            for color in [\"red\",\"blue\",\"green\"]:\n",
    "                if round[color] > limit_lookup[color]:\n",
    "                    game_valid = False\n",
    "        if game_valid:\n",
    "            valid_games.append(game_num)\n",
    "    return sum(valid_games)\n",
    "    "
   ]
  },
  {
   "cell_type": "code",
   "execution_count": 29,
   "id": "259e145c-4ea0-41c0-bbcf-1435c9e54d81",
   "metadata": {},
   "outputs": [
    {
     "data": {
      "text/plain": [
       "8"
      ]
     },
     "execution_count": 29,
     "metadata": {},
     "output_type": "execute_result"
    }
   ],
   "source": [
    "part1(test_part1) # should be 8"
   ]
  },
  {
   "cell_type": "code",
   "execution_count": 31,
   "id": "f5e90feb-607a-4c39-a61b-1e0410b60b71",
   "metadata": {},
   "outputs": [
    {
     "data": {
      "text/plain": [
       "2449"
      ]
     },
     "execution_count": 31,
     "metadata": {},
     "output_type": "execute_result"
    }
   ],
   "source": [
    "with open(\"day2input.txt\",\"r\") as f:\n",
    "    part1_data_real = f.read()\n",
    "\n",
    "part1(part1_data_real) # got em!"
   ]
  },
  {
   "cell_type": "markdown",
   "id": "3e27d9ce-4651-4d86-a4d3-7c07ce9cbf80",
   "metadata": {},
   "source": [
    "<h2 id=\"part2\">--- Part Two ---</h2><p>The Elf says they've stopped producing snow because they aren't getting any <em>water</em>! He isn't sure why the water stopped; however, he can show you how to get to the water source to check it out for yourself. It's just up ahead!</p>\r\n",
    "<p>As you continue your walk, the Elf poses a second question: in each game you played, what is the <em>fewest number of cubes of each color</em> that could have been in the bag to make the game possible?</p>\r\n",
    "<p>Again consider the example games from earlier:</p>\r\n",
    "<pre><code>Game 1: 3 blue, 4 red; 1 red, 2 green, 6 blue; 2 green\r\n",
    "Game 2: 1 blue, 2 green; 3 green, 4 blue, 1 red; 1 green, 1 blue\r\n",
    "Game 3: 8 green, 6 blue, 20 red; 5 blue, 4 red, 13 green; 5 green, 1 red\r\n",
    "Game 4: 1 green, 3 red, 6 blue; 3 green, 6 red; 3 green, 15 blue, 14 red\r\n",
    "Game 5: 6 red, 1 blue, 3 green; 2 blue, 1 red, 2 green\r\n",
    "</code></pre>\r\n",
    "<ul>\r\n",
    "<li>In game 1, the game could have been played with as few as 4 red, 2 green, and 6 blue cubes. If any color had even one fewer cube, the game would have been impossible.</li>\r\n",
    "<li>Game 2 could have been played with a minimum of 1 red, 3 green, and 4 blue cubes.<li>\r\n",
    "<li>Game 3 must have been played with at least 20 red, 13 green, and 6 blue cubes.</li>\r\n",
    "<li>Game 4 required at least 14 red, 3 green, and 15 blue cubes.</li>\r\n",
    "<li>Game 5 needed no fewer than 6 red, 3 green, and 2 blue cubes in the bag.</li>\r\n",
    "</ul>\r\n",
    "<p>The <em>power</em> of a set of cubes is equal to the numbers of red, green, and blue cubes multiplied together. The power of the minimum set of cubes in game 1 is <code>48</code>. In games 2-5 it was <code>12</code>, <code>1560</code>, <code>630</code>, and <code>36</code>, respectively. Adding up these five powers produces the sum <code><em>2286</em></code>.</p>\r\n",
    "<p>For each game, find the minimum set of cubes that must have been present. <em>What is the sum of the power of these sets?</em></p>"
   ]
  },
  {
   "cell_type": "markdown",
   "id": "8e6b1626-6a5c-4c2b-9a09-ab4257db59a4",
   "metadata": {},
   "source": [
    "## Part 2 strats\n",
    "This seems easy, and I can reuse my data structure from before. For each game, get the maximum number for each color that was pulled, then multiply them. Sum this up."
   ]
  },
  {
   "cell_type": "code",
   "execution_count": 32,
   "id": "a5888364-8de6-4bd8-a6b0-eae9487346d3",
   "metadata": {},
   "outputs": [],
   "source": [
    "def part2(puzzle_string: str) -> int:\n",
    "    games_stats_lookup = get_games_stats_from_string(puzzle_string)\n",
    "    powers_by_game = []\n",
    "    for game_num, stats_games in games_stats_lookup.items():\n",
    "        red = max([pull[\"red\"] for pull in stats_games])\n",
    "        green = max([pull[\"green\"] for pull in stats_games])\n",
    "        blue = max([pull[\"blue\"] for pull in stats_games])\n",
    "        powers_by_game = red*blue*green\n",
    "    return sum(powers_by_game)"
   ]
  },
  {
   "cell_type": "code",
   "execution_count": null,
   "id": "7e7aab85-2776-4857-b2a4-b73c79b229dd",
   "metadata": {},
   "outputs": [],
   "source": [
    "part2(te"
   ]
  }
 ],
 "metadata": {
  "kernelspec": {
   "display_name": "Python 3 (ipykernel)",
   "language": "python",
   "name": "python3"
  },
  "language_info": {
   "codemirror_mode": {
    "name": "ipython",
    "version": 3
   },
   "file_extension": ".py",
   "mimetype": "text/x-python",
   "name": "python",
   "nbconvert_exporter": "python",
   "pygments_lexer": "ipython3",
   "version": "3.10.4"
  }
 },
 "nbformat": 4,
 "nbformat_minor": 5
}
