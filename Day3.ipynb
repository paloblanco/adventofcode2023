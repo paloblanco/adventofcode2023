{
 "cells": [
  {
   "cell_type": "markdown",
   "id": "ea30b081-92e9-4aca-8ab6-91f4d25c3d0e",
   "metadata": {},
   "source": [
    "# Day 3\n"
   ]
  },
  {
   "cell_type": "markdown",
   "id": "91cf33c6-3a38-4f6a-a870-2e45a992ae1e",
   "metadata": {},
   "source": [
    "## Part 1 plan\n",
    "1. Turn the input into a list of lists, so it is like a table\n",
    "2. March through the table, left-to-right then top to bottom\n",
    "3. when you hit a number, collect the following info:\n",
    "    - location, length, numeric value\n",
    "    - put these in a list\n",
    "4. go through the list and check each one for a non-period,non-number in the neighborhood."
   ]
  },
  {
   "cell_type": "code",
   "execution_count": 1,
   "id": "994ffcef-149a-4c50-ad9d-e1a73dbb4fd4",
   "metadata": {},
   "outputs": [],
   "source": [
    "test_input = \"\"\"467..114..\n",
    "...*......\n",
    "..35..633.\n",
    "......#...\n",
    "617*......\n",
    ".....+.58.\n",
    "..592.....\n",
    "......755.\n",
    "...$.*....\n",
    ".664.598..\"\"\""
   ]
  },
  {
   "cell_type": "code",
   "execution_count": 36,
   "id": "7b0fa699-7fd0-4f0b-92fb-f3399fc69a1c",
   "metadata": {},
   "outputs": [],
   "source": [
    "def get_all_number_info(schematic_map):\n",
    "    # this might be overkill, but I bet it will be nice to have a list containing all my number information\n",
    "    # for part 2.\n",
    "    # structure is: [y,x,length,number]. all are ints.\n",
    "    all_number_info = []\n",
    "    for y, row in enumerate(schematic_map):\n",
    "        skip_entries = 0\n",
    "        for x, letter in enumerate(row):\n",
    "            if skip_entries > 0:\n",
    "                skip_entries += -1\n",
    "                continue\n",
    "            if not letter.isnumeric(): continue\n",
    "            entries = []\n",
    "            x_next = x\n",
    "            skip_entries = -1\n",
    "            while letter.isnumeric():\n",
    "                entries.append(letter)\n",
    "                x_next += 1\n",
    "                if x_next >= len(row): break\n",
    "                skip_entries += 1\n",
    "                letter = row[x_next]    \n",
    "            current_number = int(''.join(entries))\n",
    "            all_number_info.append([y,x,skip_entries+1,current_number])\n",
    "    return all_number_info\n",
    "\n",
    "def is_number_adjacent_to_symbol(y,x,length,schematic_map):\n",
    "    ystart = max(0,y-1)\n",
    "    xstart = max(0,x-1)\n",
    "    for yy in range(ystart, y+2):\n",
    "        if yy >= len(schematic_map): break\n",
    "        for xx in range(xstart, x+length+1):\n",
    "            if xx >= len(schematic_map[0]): break\n",
    "            letter = schematic_map[yy][xx]\n",
    "            if not letter.isnumeric() and letter != \".\":\n",
    "                return True\n",
    "    return False # if i make it all the way here without finding a symbol, i failed\n",
    "\n",
    "def part1(schematic):\n",
    "    schematic_map = [list(line) for line in schematic.split(\"\\n\")]\n",
    "    all_number_info = get_all_number_info(schematic_map)\n",
    "    part_numbers = []\n",
    "    for y,x,length,number in all_number_info:\n",
    "        if is_number_adjacent_to_symbol(y,x,length,schematic_map):\n",
    "            part_numbers.append(number)\n",
    "    return sum(part_numbers)\n",
    "                    \n",
    "            "
   ]
  },
  {
   "cell_type": "code",
   "execution_count": 37,
   "id": "c75797c0-ec26-4047-87ee-4f7194a5e68c",
   "metadata": {},
   "outputs": [
    {
     "name": "stdout",
     "output_type": "stream",
     "text": [
      "4361\n"
     ]
    }
   ],
   "source": [
    "print(part1(test_input)) # should be 4361"
   ]
  },
  {
   "cell_type": "code",
   "execution_count": 38,
   "id": "65546162-549b-4b9c-b111-8fd0e27c1a13",
   "metadata": {},
   "outputs": [],
   "source": [
    "with open(\"day3input.txt\",\"r\") as f:\n",
    "    real_input = f.read()"
   ]
  },
  {
   "cell_type": "code",
   "execution_count": 39,
   "id": "67e1063d-27e2-4fd0-986a-323e0bfd47c1",
   "metadata": {},
   "outputs": [
    {
     "name": "stdout",
     "output_type": "stream",
     "text": [
      "512794\n"
     ]
    }
   ],
   "source": [
    "print(part1(real_input))"
   ]
  },
  {
   "cell_type": "markdown",
   "id": "4224ed99-45c3-49f6-a08c-848a27f720ca",
   "metadata": {},
   "source": [
    "## Part 2\n",
    "\n",
    "- find every gear (*) that is adjacent to two numbers, multiply the numbers, sum of those multiples\n",
    "- I will find every gear, run a collision test against my number list, save those gears that collide with two numbers"
   ]
  },
  {
   "cell_type": "code",
   "execution_count": 48,
   "id": "97583357-087a-4af5-8fe2-db3eb4bb23e6",
   "metadata": {},
   "outputs": [],
   "source": [
    "def get_all_gear_info(schematic_map):\n",
    "    all_gear_info = []\n",
    "    for y, row in enumerate(schematic_map):\n",
    "        for x, letter in enumerate(row):\n",
    "            if letter == \"*\":\n",
    "                all_gear_info.append([y,x])\n",
    "    return all_gear_info\n",
    "\n",
    "def part2(schematic):\n",
    "    schematic_map = [list(line) for line in schematic.split(\"\\n\")]\n",
    "    all_number_info = get_all_number_info(schematic_map)\n",
    "    all_gear_info = get_all_gear_info(schematic_map)\n",
    "    running_sum_of_products = 0\n",
    "    for ygear,xgear in all_gear_info:\n",
    "        collide_count = 0\n",
    "        numbers_collide = []\n",
    "        for y,x,length,number in all_number_info:\n",
    "            if (ygear >= y-1 and ygear <= y+1) and (xgear >= x-1 and xgear <= x+length):\n",
    "                collide_count += 1\n",
    "                numbers_collide.append(number)\n",
    "        if collide_count == 2:\n",
    "            running_sum_of_products += numbers_collide[0] * numbers_collide[1]\n",
    "        # print(f\"{ygear=}  {xgear=}  {collide_count=}\")\n",
    "    return running_sum_of_products\n",
    "            "
   ]
  },
  {
   "cell_type": "code",
   "execution_count": 49,
   "id": "86d57c65-c7f4-4987-8dd3-42d45b3de97a",
   "metadata": {},
   "outputs": [
    {
     "data": {
      "text/plain": [
       "467835"
      ]
     },
     "execution_count": 49,
     "metadata": {},
     "output_type": "execute_result"
    }
   ],
   "source": [
    "part2(test_input) # should be 467835"
   ]
  },
  {
   "cell_type": "code",
   "execution_count": 50,
   "id": "b9f963b2-fccf-4d4f-86b4-951405fd54ea",
   "metadata": {},
   "outputs": [
    {
     "data": {
      "text/plain": [
       "67779080"
      ]
     },
     "execution_count": 50,
     "metadata": {},
     "output_type": "execute_result"
    }
   ],
   "source": [
    "part2(real_input)"
   ]
  },
  {
   "cell_type": "code",
   "execution_count": null,
   "id": "4aea8ec5-c668-49c0-8e02-ab945588c2e6",
   "metadata": {},
   "outputs": [],
   "source": []
  }
 ],
 "metadata": {
  "kernelspec": {
   "display_name": "Python 3 (ipykernel)",
   "language": "python",
   "name": "python3"
  },
  "language_info": {
   "codemirror_mode": {
    "name": "ipython",
    "version": 3
   },
   "file_extension": ".py",
   "mimetype": "text/x-python",
   "name": "python",
   "nbconvert_exporter": "python",
   "pygments_lexer": "ipython3",
   "version": "3.10.4"
  }
 },
 "nbformat": 4,
 "nbformat_minor": 5
}
