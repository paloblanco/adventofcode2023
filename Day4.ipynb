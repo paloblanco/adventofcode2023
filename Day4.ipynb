{
 "cells": [
  {
   "cell_type": "markdown",
   "id": "0770945f-9089-401b-adcd-814dbb9307de",
   "metadata": {},
   "source": [
    "# Day 4\n",
    "\n",
    "<p>The gondola takes you up. Strangely, though, the ground doesn't seem to be coming with you; you're not climbing a mountain. As the circle of Snow Island recedes below you, an entire new landmass suddenly appears above you! The gondola carries you to the surface of the new island and lurches into the station.</p>\r\n",
    "<p>As you exit the gondola, the first thing you notice is that the air here is much <em>warmer</em> than it was on Snow Island. It's also quite <em>humid</em>. Is this where the water source is?</p>\r\n",
    "<p>The next thing you notice is an Elf sitting on the floor across the station in what seems to be a pile of colorful square cards.</p>\r\n",
    "<p>\"Oh! Hello!\" The Elf excitedly runs over to you. \"How may I be of service?\" You ask about water sources.</p>\r\n",
    "<p>\"I'm not sure; I just operate the gondola lift. That does sound like something we'd have, though - this is <em><span title=\"I find this way funnier than it has any right to be.\">Island Island</span></em>, after all! I bet the <em>gardener</em> would know. He's on a different island, though - er, the small kind surrounded by water, not the floating kind. We really need to come up with a better naming scheme. Tell you what: if you can help me with something quick, I'll let you <em>borrow my boat</em> and you can go visit the gardener. I got all these <a href=\"https://en.wikipedia.org/wiki/Scratchcard\" target=\"_blank\">scratchcards</a> as a gift, but I can't figure out what I've won.\"</p>\r\n",
    "<p>The Elf leads you over to the pile of colorful cards. There, you discover dozens of scratchcards, all with their opaque covering already scratched off. Picking one up, it looks like each card has two lists of numbers separated by a vertical bar (<code>|</code>): a list of <em>winning numbers</em> and then a list of <em>numbers you have</em>. You organize the information into a table (your puzzle input).</p>\r\n",
    "<p>As far as the Elf has been able to figure out, you have to figure out which of the <em>numbers you have</em> appear in the list of <em>winning numbers</em>. The first match makes the card worth <em>one point</em> and each match after the first <em>doubles</em> the point value of that card.</p>\r\n",
    "<p>For example:</p>\r\n",
    "<pre><code>Card 1: 41 48 83 86 17 | 83 86  6 31 17  9 48 53\r\n",
    "Card 2: 13 32 20 16 61 | 61 30 68 82 17 32 24 19\r\n",
    "Card 3:  1 21 53 59 44 | 69 82 63 72 16 21 14  1\r\n",
    "Card 4: 41 92 73 84 69 | 59 84 76 51 58  5 54 83\r\n",
    "Card 5: 87 83 26 28 32 | 88 30 70 12 93 22 82 36\r\n",
    "Card 6: 31 18 13 56 72 | 74 77 10 23 35 67 36 11\r\n",
    "</code></pre>\r\n",
    "<p>In the above example, card 1 has five winning numbers (<code>41</code>, <code>48</code>, <code>83</code>, <code>86</code>, and <code>17</code>) and eight numbers you have (<code>83</code>, <code>86</code>, <code>6</code>, <code>31</code>, <code>17</code>, <code>9</code>, <code>48</code>, and <code>53</code>). Of the numbers you have, four of them (<code>48</code>, <code>83</code>, <code>17</code>, and <code>86</code>) are winning numbers! That means card 1 is worth <code><em>8</em></code> points (1 for the first match, then doubled three times for each of the three matches after the first).</p>\r\n",
    "<ul>\r\n",
    "<li>Card 2 has two winning numbers (<code>32</code> and <code>61</code>), so it is worth <code><em>2</em></code> points.</li>\r\n",
    "<li>Card 3 has two winning numbers (<code>1</code> and <code>21</code>), so it is worth <code><em>2</em></code> points.</li>\r\n",
    "<li>Card 4 has one winning number (<code>84</code>), so it is worth <code><em>1</em></code> point.</li>\r\n",
    "<li>Card 5 has no winning numbers, so it is worth no points.</li>\r\n",
    "<li>Card 6 has no winning numbers, so it is worth no points.</li>\r\n",
    "</ul>\r\n",
    "<p>So, in this example, the Elf's pile of scratchcards is worth <code><em>13</em></code> points.</p>\r\n",
    "<p>Take a seat in the large pile of colorful cards. <em>How many points are they worth in total?</em></p>"
   ]
  },
  {
   "cell_type": "markdown",
   "id": "64031da3-559b-4f9f-a55b-6358e25ef921",
   "metadata": {},
   "source": [
    "this is a pretty easy one so far. For each card, just do a set intersection (matches on each side) and count them up. do 2^(number_of_matches-1), something like that"
   ]
  },
  {
   "cell_type": "code",
   "execution_count": 36,
   "id": "9bcf1b7b-c7d3-4200-80aa-755149295be8",
   "metadata": {},
   "outputs": [],
   "source": [
    "import re\n",
    "\n",
    "def part1(card_string):\n",
    "    list_of_cards = card_string.split(\"\\n\")\n",
    "    list_of_winnings = []\n",
    "    for card in list_of_cards:\n",
    "        numbers_only = card.split(\":\")[1] # take only the second half\n",
    "        left, right = numbers_only.split(\"|\")\n",
    "        left = {int(each) for each in re.split(\"\\s+\", left.strip())}\n",
    "        right = {int(each) for each in re.split(\"\\s+\", right.strip())}\n",
    "        winner_count = len(left & right) # set intersection of left and right\n",
    "        if winner_count == 0: \n",
    "            list_of_winnings.append(0)\n",
    "        if winner_count >  0: \n",
    "            list_of_winnings.append(2**(winner_count-1))\n",
    "    return sum(list_of_winnings)\n",
    "                                "
   ]
  },
  {
   "cell_type": "code",
   "execution_count": 37,
   "id": "34f4ea32-354e-482b-9df4-23acd87728b1",
   "metadata": {},
   "outputs": [],
   "source": [
    "test_input = \"\"\"Card 1: 41 48 83 86 17 | 83 86  6 31 17  9 48 53\n",
    "Card 2: 13 32 20 16 61 | 61 30 68 82 17 32 24 19\n",
    "Card 3:  1 21 53 59 44 | 69 82 63 72 16 21 14  1\n",
    "Card 4: 41 92 73 84 69 | 59 84 76 51 58  5 54 83\n",
    "Card 5: 87 83 26 28 32 | 88 30 70 12 93 22 82 36\n",
    "Card 6: 31 18 13 56 72 | 74 77 10 23 35 67 36 11\"\"\""
   ]
  },
  {
   "cell_type": "code",
   "execution_count": 38,
   "id": "ba51c13f-f228-40d0-a5b1-94d4081ca0cd",
   "metadata": {},
   "outputs": [
    {
     "data": {
      "text/plain": [
       "13"
      ]
     },
     "execution_count": 38,
     "metadata": {},
     "output_type": "execute_result"
    }
   ],
   "source": [
    "part1(test_input) # should be 13"
   ]
  },
  {
   "cell_type": "code",
   "execution_count": 39,
   "id": "911b0139-4d74-45a3-af68-7b1858f270db",
   "metadata": {},
   "outputs": [],
   "source": [
    "with open(\"day4input.txt\",\"r\") as f:\n",
    "    real_input = f.read()"
   ]
  },
  {
   "cell_type": "code",
   "execution_count": 40,
   "id": "f0b63f29-631d-4318-b5bc-bc93c8ae66b4",
   "metadata": {},
   "outputs": [
    {
     "data": {
      "text/plain": [
       "25174"
      ]
     },
     "execution_count": 40,
     "metadata": {},
     "output_type": "execute_result"
    }
   ],
   "source": [
    "part1(real_input)"
   ]
  },
  {
   "cell_type": "code",
   "execution_count": null,
   "id": "285df502-8dd2-4eb0-af75-8a0441e46486",
   "metadata": {},
   "outputs": [],
   "source": []
  }
 ],
 "metadata": {
  "kernelspec": {
   "display_name": "Python 3 (ipykernel)",
   "language": "python",
   "name": "python3"
  },
  "language_info": {
   "codemirror_mode": {
    "name": "ipython",
    "version": 3
   },
   "file_extension": ".py",
   "mimetype": "text/x-python",
   "name": "python",
   "nbconvert_exporter": "python",
   "pygments_lexer": "ipython3",
   "version": "3.10.4"
  }
 },
 "nbformat": 4,
 "nbformat_minor": 5
}
