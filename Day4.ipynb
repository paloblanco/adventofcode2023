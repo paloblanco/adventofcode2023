{
 "cells": [
  {
   "cell_type": "markdown",
   "id": "0770945f-9089-401b-adcd-814dbb9307de",
   "metadata": {},
   "source": [
    "# Day 4\n",
    "\n",
    "<p>The gondola takes you up. Strangely, though, the ground doesn't seem to be coming with you; you're not climbing a mountain. As the circle of Snow Island recedes below you, an entire new landmass suddenly appears above you! The gondola carries you to the surface of the new island and lurches into the station.</p>\r\n",
    "<p>As you exit the gondola, the first thing you notice is that the air here is much <em>warmer</em> than it was on Snow Island. It's also quite <em>humid</em>. Is this where the water source is?</p>\r\n",
    "<p>The next thing you notice is an Elf sitting on the floor across the station in what seems to be a pile of colorful square cards.</p>\r\n",
    "<p>\"Oh! Hello!\" The Elf excitedly runs over to you. \"How may I be of service?\" You ask about water sources.</p>\r\n",
    "<p>\"I'm not sure; I just operate the gondola lift. That does sound like something we'd have, though - this is <em><span title=\"I find this way funnier than it has any right to be.\">Island Island</span></em>, after all! I bet the <em>gardener</em> would know. He's on a different island, though - er, the small kind surrounded by water, not the floating kind. We really need to come up with a better naming scheme. Tell you what: if you can help me with something quick, I'll let you <em>borrow my boat</em> and you can go visit the gardener. I got all these <a href=\"https://en.wikipedia.org/wiki/Scratchcard\" target=\"_blank\">scratchcards</a> as a gift, but I can't figure out what I've won.\"</p>\r\n",
    "<p>The Elf leads you over to the pile of colorful cards. There, you discover dozens of scratchcards, all with their opaque covering already scratched off. Picking one up, it looks like each card has two lists of numbers separated by a vertical bar (<code>|</code>): a list of <em>winning numbers</em> and then a list of <em>numbers you have</em>. You organize the information into a table (your puzzle input).</p>\r\n",
    "<p>As far as the Elf has been able to figure out, you have to figure out which of the <em>numbers you have</em> appear in the list of <em>winning numbers</em>. The first match makes the card worth <em>one point</em> and each match after the first <em>doubles</em> the point value of that card.</p>\r\n",
    "<p>For example:</p>\r\n",
    "<pre><code>Card 1: 41 48 83 86 17 | 83 86  6 31 17  9 48 53\r\n",
    "Card 2: 13 32 20 16 61 | 61 30 68 82 17 32 24 19\r\n",
    "Card 3:  1 21 53 59 44 | 69 82 63 72 16 21 14  1\r\n",
    "Card 4: 41 92 73 84 69 | 59 84 76 51 58  5 54 83\r\n",
    "Card 5: 87 83 26 28 32 | 88 30 70 12 93 22 82 36\r\n",
    "Card 6: 31 18 13 56 72 | 74 77 10 23 35 67 36 11\r\n",
    "</code></pre>\r\n",
    "<p>In the above example, card 1 has five winning numbers (<code>41</code>, <code>48</code>, <code>83</code>, <code>86</code>, and <code>17</code>) and eight numbers you have (<code>83</code>, <code>86</code>, <code>6</code>, <code>31</code>, <code>17</code>, <code>9</code>, <code>48</code>, and <code>53</code>). Of the numbers you have, four of them (<code>48</code>, <code>83</code>, <code>17</code>, and <code>86</code>) are winning numbers! That means card 1 is worth <code><em>8</em></code> points (1 for the first match, then doubled three times for each of the three matches after the first).</p>\r\n",
    "<ul>\r\n",
    "<li>Card 2 has two winning numbers (<code>32</code> and <code>61</code>), so it is worth <code><em>2</em></code> points.</li>\r\n",
    "<li>Card 3 has two winning numbers (<code>1</code> and <code>21</code>), so it is worth <code><em>2</em></code> points.</li>\r\n",
    "<li>Card 4 has one winning number (<code>84</code>), so it is worth <code><em>1</em></code> point.</li>\r\n",
    "<li>Card 5 has no winning numbers, so it is worth no points.</li>\r\n",
    "<li>Card 6 has no winning numbers, so it is worth no points.</li>\r\n",
    "</ul>\r\n",
    "<p>So, in this example, the Elf's pile of scratchcards is worth <code><em>13</em></code> points.</p>\r\n",
    "<p>Take a seat in the large pile of colorful cards. <em>How many points are they worth in total?</em></p>"
   ]
  },
  {
   "cell_type": "markdown",
   "id": "64031da3-559b-4f9f-a55b-6358e25ef921",
   "metadata": {},
   "source": [
    "this is a pretty easy one so far. For each card, just do a set intersection (matches on each side) and count them up. do 2^(number_of_matches-1), something like that"
   ]
  },
  {
   "cell_type": "code",
   "execution_count": 36,
   "id": "9bcf1b7b-c7d3-4200-80aa-755149295be8",
   "metadata": {},
   "outputs": [],
   "source": [
    "import re\n",
    "\n",
    "def part1(card_string):\n",
    "    list_of_cards = card_string.split(\"\\n\")\n",
    "    list_of_winnings = []\n",
    "    for card in list_of_cards:\n",
    "        numbers_only = card.split(\":\")[1] # take only the second half\n",
    "        left, right = numbers_only.split(\"|\")\n",
    "        left = {int(each) for each in re.split(\"\\s+\", left.strip())}\n",
    "        right = {int(each) for each in re.split(\"\\s+\", right.strip())}\n",
    "        winner_count = len(left & right) # set intersection of left and right\n",
    "        if winner_count == 0: \n",
    "            list_of_winnings.append(0)\n",
    "        if winner_count >  0: \n",
    "            list_of_winnings.append(2**(winner_count-1))\n",
    "    return sum(list_of_winnings)\n",
    "                                "
   ]
  },
  {
   "cell_type": "code",
   "execution_count": 37,
   "id": "34f4ea32-354e-482b-9df4-23acd87728b1",
   "metadata": {},
   "outputs": [],
   "source": [
    "test_input = \"\"\"Card 1: 41 48 83 86 17 | 83 86  6 31 17  9 48 53\n",
    "Card 2: 13 32 20 16 61 | 61 30 68 82 17 32 24 19\n",
    "Card 3:  1 21 53 59 44 | 69 82 63 72 16 21 14  1\n",
    "Card 4: 41 92 73 84 69 | 59 84 76 51 58  5 54 83\n",
    "Card 5: 87 83 26 28 32 | 88 30 70 12 93 22 82 36\n",
    "Card 6: 31 18 13 56 72 | 74 77 10 23 35 67 36 11\"\"\""
   ]
  },
  {
   "cell_type": "code",
   "execution_count": 38,
   "id": "ba51c13f-f228-40d0-a5b1-94d4081ca0cd",
   "metadata": {},
   "outputs": [
    {
     "data": {
      "text/plain": [
       "13"
      ]
     },
     "execution_count": 38,
     "metadata": {},
     "output_type": "execute_result"
    }
   ],
   "source": [
    "part1(test_input) # should be 13"
   ]
  },
  {
   "cell_type": "code",
   "execution_count": 39,
   "id": "911b0139-4d74-45a3-af68-7b1858f270db",
   "metadata": {},
   "outputs": [],
   "source": [
    "with open(\"day4input.txt\",\"r\") as f:\n",
    "    real_input = f.read()"
   ]
  },
  {
   "cell_type": "code",
   "execution_count": 40,
   "id": "f0b63f29-631d-4318-b5bc-bc93c8ae66b4",
   "metadata": {},
   "outputs": [
    {
     "data": {
      "text/plain": [
       "25174"
      ]
     },
     "execution_count": 40,
     "metadata": {},
     "output_type": "execute_result"
    }
   ],
   "source": [
    "part1(real_input)"
   ]
  },
  {
   "cell_type": "markdown",
   "id": "cd1e2e6e-da47-4b12-933d-e4195635c285",
   "metadata": {},
   "source": [
    "## part 2\n",
    "\n",
    "<p>Just as you're about to report your findings to the Elf, one of you realizes that the rules have actually been printed on the back of every card this whole time.</p>\r\n",
    "<p>There's no such thing as \"points\". Instead, scratchcards only cause you to <em>win more scratchcards</em> equal to the number of winning numbers you have.</p>\r\n",
    "<p>Specifically, you win <em>copies</em> of the scratchcards below the winning card equal to the number of matches. So, if card 10 were to have 5 matching numbers, you would win one copy each of cards 11, 12, 13, 14, and 15.</p>\r\n",
    "<p>Copies of scratchcards are scored like normal scratchcards and have the <em>same card number</em> as the card they copied. So, if you win a copy of card 10 and it has 5 matching numbers, it would then win a copy of the same cards that the original card 10 won: cards 11, 12, 13, 14, and 15. This process repeats until none of the copies cause you to win any more cards. (Cards will never make you copy a card past the end of the table.)</p>\r\n",
    "<p>This time, the above example goes differently:</p>\r\n",
    "<pre><code>Card 1: 41 48 83 86 17 | 83 86  6 31 17  9 48 53\r\n",
    "Card 2: 13 32 20 16 61 | 61 30 68 82 17 32 24 19\r\n",
    "Card 3:  1 21 53 59 44 | 69 82 63 72 16 21 14  1\r\n",
    "Card 4: 41 92 73 84 69 | 59 84 76 51 58  5 54 83\r\n",
    "Card 5: 87 83 26 28 32 | 88 30 70 12 93 22 82 36\r\n",
    "Card 6: 31 18 13 56 72 | 74 77 10 23 35 67 36 11\r\n",
    "</code></pre>\r\n",
    "<ul>\r\n",
    "<li>Card 1 has four matching numbers, so you win one copy each of the next four cards: cards 2, 3, 4, and 5.</li>\r\n",
    "<li>Your original card 2 has two matching numbers, so you win one copy each of cards 3 and 4.</li>\r\n",
    "<li>Your copy of card 2 also wins one copy each of cards 3 and 4.</li>\r\n",
    "<li>Your four instances of card 3 (one original and three copies) have two matching numbers, so you win <em>four</em> copies each of cards 4 and 5.</li>\r\n",
    "<li>Your eight instances of card 4 (one original and seven copies) have one matching number, so you win <em>eight</em> copies of card 5.</li>\r\n",
    "<li>Your fourteen instances of card 5 (one original and thirteen copies) have no matching numbers and win no more cards.</li>\r\n",
    "<li>Your one instance of card 6 (one original) has no matching numbers and wins no more cards.</li>\r\n",
    "</ul>\r\n",
    "<p>Once all of the originals and copies have been processed, you end up with <code><em>1</em></code> instance of card 1, <code><em>2</em></code> instances of card 2, <code><em>4</em></code> instances of card 3, <code><em>8</em></code> instances of card 4, <code><em>14</em></code> instances of card 5, and <code><em>1</em></code> instance of card 6. In total, this example pile of scratchcards causes you to ultimately have <code><em>30</em></code> scratchcards!</p>\r\n",
    "<p>Process all of the original and copied scratchcards until no more scratchcards are won. Including the original set of scratchcards, <em>how many total scratchcards do you end up with?</em></p>"
   ]
  },
  {
   "cell_type": "markdown",
   "id": "ca748b89-2e1c-46cd-ad39-0913546d9fdf",
   "metadata": {},
   "source": [
    "## Rocco's strats\n",
    "\n",
    "How many total scratch cards do you end up with??\n",
    "- just tally up the numbers from each card, use most of the old code\n",
    "- create a data structure as below:\n",
    "\n",
    "```\n",
    "{1:{\n",
    "wins:4,\n",
    "count:1\n",
    "},\n",
    "2:{\n",
    "wins:3,\n",
    "count:1\n",
    "},...\n",
    "```\n",
    "Run through it once, add the extra counts in, then add'em up"
   ]
  },
  {
   "cell_type": "code",
   "execution_count": 42,
   "id": "c40b3f90-24a5-46e4-b74e-ae1472ad1d57",
   "metadata": {},
   "outputs": [],
   "source": [
    "def part2(card_string):\n",
    "    list_of_cards = card_string.split(\"\\n\")\n",
    "    dict_of_winnings = {}\n",
    "    for ix,card in enumerate(list_of_cards):\n",
    "        card_info = {}\n",
    "        numbers_only = card.split(\":\")[1] # take only the second half\n",
    "        left, right = numbers_only.split(\"|\")\n",
    "        left = {int(each) for each in re.split(\"\\s+\", left.strip())}\n",
    "        right = {int(each) for each in re.split(\"\\s+\", right.strip())}\n",
    "        winner_count = len(left & right) # set intersection of left and right\n",
    "        card_info[\"wins\"] = winner_count\n",
    "        card_info[\"count\"] = 1\n",
    "        dict_of_winnings[ix+1] = card_info\n",
    "\n",
    "    # now, loop through the win dict and add them forward\n",
    "    for card_num, card_info in dict_of_winnings.items():\n",
    "        for ix in range(1,card_info[\"wins\"]+1):\n",
    "            dict_of_winnings[card_num+ix][\"count\"] += card_info[\"count\"]\n",
    "\n",
    "    # lastly, add up the counts\n",
    "    total_count = sum([info[\"count\"] for info in dict_of_winnings.values()])\n",
    "    return total_count"
   ]
  },
  {
   "cell_type": "code",
   "execution_count": 44,
   "id": "cf23c5a1-ed5e-4e27-8df6-a050c8df852d",
   "metadata": {},
   "outputs": [
    {
     "data": {
      "text/plain": [
       "30"
      ]
     },
     "execution_count": 44,
     "metadata": {},
     "output_type": "execute_result"
    }
   ],
   "source": [
    "part2(test_input) # 30"
   ]
  },
  {
   "cell_type": "code",
   "execution_count": 45,
   "id": "b52e3023-4f36-434b-b2c9-1bc9697783aa",
   "metadata": {},
   "outputs": [
    {
     "data": {
      "text/plain": [
       "6420979"
      ]
     },
     "execution_count": 45,
     "metadata": {},
     "output_type": "execute_result"
    }
   ],
   "source": [
    "part2(real_input)"
   ]
  },
  {
   "cell_type": "code",
   "execution_count": null,
   "id": "da1a0f54-e21d-4713-901d-247e2e3df4ff",
   "metadata": {},
   "outputs": [],
   "source": []
  }
 ],
 "metadata": {
  "kernelspec": {
   "display_name": "Python 3 (ipykernel)",
   "language": "python",
   "name": "python3"
  },
  "language_info": {
   "codemirror_mode": {
    "name": "ipython",
    "version": 3
   },
   "file_extension": ".py",
   "mimetype": "text/x-python",
   "name": "python",
   "nbconvert_exporter": "python",
   "pygments_lexer": "ipython3",
   "version": "3.10.4"
  }
 },
 "nbformat": 4,
 "nbformat_minor": 5
}
