{
 "cells": [
  {
   "cell_type": "markdown",
   "id": "0770945f-9089-401b-adcd-814dbb9307de",
   "metadata": {},
   "source": [
    "# Day 4\n"
   ]
  },
  {
   "cell_type": "markdown",
   "id": "64031da3-559b-4f9f-a55b-6358e25ef921",
   "metadata": {},
   "source": [
    "this is a pretty easy one so far. For each card, just do a set intersection (matches on each side) and count them up. do 2^(number_of_matches-1), something like that"
   ]
  },
  {
   "cell_type": "code",
   "execution_count": 36,
   "id": "9bcf1b7b-c7d3-4200-80aa-755149295be8",
   "metadata": {},
   "outputs": [],
   "source": [
    "import re\n",
    "\n",
    "def part1(card_string):\n",
    "    list_of_cards = card_string.split(\"\\n\")\n",
    "    list_of_winnings = []\n",
    "    for card in list_of_cards:\n",
    "        numbers_only = card.split(\":\")[1] # take only the second half\n",
    "        left, right = numbers_only.split(\"|\")\n",
    "        left = {int(each) for each in re.split(\"\\s+\", left.strip())}\n",
    "        right = {int(each) for each in re.split(\"\\s+\", right.strip())}\n",
    "        winner_count = len(left & right) # set intersection of left and right\n",
    "        if winner_count == 0: \n",
    "            list_of_winnings.append(0)\n",
    "        if winner_count >  0: \n",
    "            list_of_winnings.append(2**(winner_count-1))\n",
    "    return sum(list_of_winnings)\n",
    "                                "
   ]
  },
  {
   "cell_type": "code",
   "execution_count": 37,
   "id": "34f4ea32-354e-482b-9df4-23acd87728b1",
   "metadata": {},
   "outputs": [],
   "source": [
    "test_input = \"\"\"Card 1: 41 48 83 86 17 | 83 86  6 31 17  9 48 53\n",
    "Card 2: 13 32 20 16 61 | 61 30 68 82 17 32 24 19\n",
    "Card 3:  1 21 53 59 44 | 69 82 63 72 16 21 14  1\n",
    "Card 4: 41 92 73 84 69 | 59 84 76 51 58  5 54 83\n",
    "Card 5: 87 83 26 28 32 | 88 30 70 12 93 22 82 36\n",
    "Card 6: 31 18 13 56 72 | 74 77 10 23 35 67 36 11\"\"\""
   ]
  },
  {
   "cell_type": "code",
   "execution_count": 38,
   "id": "ba51c13f-f228-40d0-a5b1-94d4081ca0cd",
   "metadata": {},
   "outputs": [
    {
     "data": {
      "text/plain": [
       "13"
      ]
     },
     "execution_count": 38,
     "metadata": {},
     "output_type": "execute_result"
    }
   ],
   "source": [
    "part1(test_input) # should be 13"
   ]
  },
  {
   "cell_type": "code",
   "execution_count": 39,
   "id": "911b0139-4d74-45a3-af68-7b1858f270db",
   "metadata": {},
   "outputs": [],
   "source": [
    "with open(\"day4input.txt\",\"r\") as f:\n",
    "    real_input = f.read()"
   ]
  },
  {
   "cell_type": "code",
   "execution_count": 40,
   "id": "f0b63f29-631d-4318-b5bc-bc93c8ae66b4",
   "metadata": {},
   "outputs": [
    {
     "data": {
      "text/plain": [
       "25174"
      ]
     },
     "execution_count": 40,
     "metadata": {},
     "output_type": "execute_result"
    }
   ],
   "source": [
    "part1(real_input)"
   ]
  },
  {
   "cell_type": "markdown",
   "id": "cd1e2e6e-da47-4b12-933d-e4195635c285",
   "metadata": {},
   "source": [
    "## part 2\n"
   ]
  },
  {
   "cell_type": "markdown",
   "id": "ca748b89-2e1c-46cd-ad39-0913546d9fdf",
   "metadata": {},
   "source": [
    "## Rocco's strats\n",
    "\n",
    "How many total scratch cards do you end up with??\n",
    "- just tally up the numbers from each card, use most of the old code\n",
    "- create a data structure as below:\n",
    "\n",
    "```\n",
    "{1:{\n",
    "wins:4,\n",
    "count:1\n",
    "},\n",
    "2:{\n",
    "wins:3,\n",
    "count:1\n",
    "},...\n",
    "```\n",
    "Run through it once, add the extra counts in, then add'em up"
   ]
  },
  {
   "cell_type": "code",
   "execution_count": 42,
   "id": "c40b3f90-24a5-46e4-b74e-ae1472ad1d57",
   "metadata": {},
   "outputs": [],
   "source": [
    "def part2(card_string):\n",
    "    list_of_cards = card_string.split(\"\\n\")\n",
    "    dict_of_winnings = {}\n",
    "    for ix,card in enumerate(list_of_cards):\n",
    "        card_info = {}\n",
    "        numbers_only = card.split(\":\")[1] # take only the second half\n",
    "        left, right = numbers_only.split(\"|\")\n",
    "        left = {int(each) for each in re.split(\"\\s+\", left.strip())}\n",
    "        right = {int(each) for each in re.split(\"\\s+\", right.strip())}\n",
    "        winner_count = len(left & right) # set intersection of left and right\n",
    "        card_info[\"wins\"] = winner_count\n",
    "        card_info[\"count\"] = 1\n",
    "        dict_of_winnings[ix+1] = card_info\n",
    "\n",
    "    # now, loop through the win dict and add them forward\n",
    "    for card_num, card_info in dict_of_winnings.items():\n",
    "        for ix in range(1,card_info[\"wins\"]+1):\n",
    "            dict_of_winnings[card_num+ix][\"count\"] += card_info[\"count\"]\n",
    "\n",
    "    # lastly, add up the counts\n",
    "    total_count = sum([info[\"count\"] for info in dict_of_winnings.values()])\n",
    "    return total_count"
   ]
  },
  {
   "cell_type": "code",
   "execution_count": 44,
   "id": "cf23c5a1-ed5e-4e27-8df6-a050c8df852d",
   "metadata": {},
   "outputs": [
    {
     "data": {
      "text/plain": [
       "30"
      ]
     },
     "execution_count": 44,
     "metadata": {},
     "output_type": "execute_result"
    }
   ],
   "source": [
    "part2(test_input) # 30"
   ]
  },
  {
   "cell_type": "code",
   "execution_count": 45,
   "id": "b52e3023-4f36-434b-b2c9-1bc9697783aa",
   "metadata": {},
   "outputs": [
    {
     "data": {
      "text/plain": [
       "6420979"
      ]
     },
     "execution_count": 45,
     "metadata": {},
     "output_type": "execute_result"
    }
   ],
   "source": [
    "part2(real_input)"
   ]
  },
  {
   "cell_type": "code",
   "execution_count": null,
   "id": "da1a0f54-e21d-4713-901d-247e2e3df4ff",
   "metadata": {},
   "outputs": [],
   "source": []
  }
 ],
 "metadata": {
  "kernelspec": {
   "display_name": "Python 3 (ipykernel)",
   "language": "python",
   "name": "python3"
  },
  "language_info": {
   "codemirror_mode": {
    "name": "ipython",
    "version": 3
   },
   "file_extension": ".py",
   "mimetype": "text/x-python",
   "name": "python",
   "nbconvert_exporter": "python",
   "pygments_lexer": "ipython3",
   "version": "3.10.4"
  }
 },
 "nbformat": 4,
 "nbformat_minor": 5
}
