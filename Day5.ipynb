{
 "cells": [
  {
   "cell_type": "markdown",
   "metadata": {},
   "source": [
    "# Day 5\n",
    "\n",
    "Tets input:\n",
    "\n",
    "```\n",
    "seeds: 79 14 55 13\n",
    "\n",
    "seed-to-soil map:\n",
    "50 98 2\n",
    "52 50 48\n",
    "\n",
    "soil-to-fertilizer map:\n",
    "0 15 37\n",
    "37 52 2\n",
    "39 0 15\n",
    "\n",
    "fertilizer-to-water map:\n",
    "49 53 8\n",
    "0 11 42\n",
    "42 0 7\n",
    "57 7 4\n",
    "\n",
    "water-to-light map:\n",
    "88 18 7\n",
    "18 25 70\n",
    "\n",
    "light-to-temperature map:\n",
    "45 77 23\n",
    "81 45 19\n",
    "68 64 13\n",
    "\n",
    "temperature-to-humidity map:\n",
    "0 69 1\n",
    "1 0 69\n",
    "\n",
    "humidity-to-location map:\n",
    "60 56 37\n",
    "56 93 4\n",
    "```\n",
    "\n",
    "You basically need to create a series of mapping functions to go all the way from seed number to location. Report the lowest location. In the real input, numbers get huge."
   ]
  },
  {
   "cell_type": "code",
   "execution_count": 1,
   "metadata": {},
   "outputs": [],
   "source": [
    "test_input = \"\"\"seeds: 79 14 55 13\n",
    "\n",
    "seed-to-soil map:\n",
    "50 98 2\n",
    "52 50 48\n",
    "\n",
    "soil-to-fertilizer map:\n",
    "0 15 37\n",
    "37 52 2\n",
    "39 0 15\n",
    "\n",
    "fertilizer-to-water map:\n",
    "49 53 8\n",
    "0 11 42\n",
    "42 0 7\n",
    "57 7 4\n",
    "\n",
    "water-to-light map:\n",
    "88 18 7\n",
    "18 25 70\n",
    "\n",
    "light-to-temperature map:\n",
    "45 77 23\n",
    "81 45 19\n",
    "68 64 13\n",
    "\n",
    "temperature-to-humidity map:\n",
    "0 69 1\n",
    "1 0 69\n",
    "\n",
    "humidity-to-location map:\n",
    "60 56 37\n",
    "56 93 4\"\"\""
   ]
  },
  {
   "cell_type": "code",
   "execution_count": 2,
   "metadata": {},
   "outputs": [
    {
     "data": {
      "text/plain": [
       "False"
      ]
     },
     "execution_count": 2,
     "metadata": {},
     "output_type": "execute_result"
    }
   ],
   "source": [
    "\"\".isspace()"
   ]
  },
  {
   "cell_type": "code",
   "execution_count": 7,
   "metadata": {},
   "outputs": [],
   "source": [
    "# create a \"mapper\" class. This will be easier than using a dict. A mapper will take inputs from the statement and output numbers correctly.\n",
    "\n",
    "class SeedMap:\n",
    "    def __init__(self, name, container):\n",
    "        self.name = name\n",
    "        container = [[int(e) for e in line.split(\" \")] for line in container]\n",
    "        self.container = container\n",
    "\n",
    "    def translate(self,num):\n",
    "        for row in self.container:\n",
    "            if num >= row[1] and num < row[1] + row[2]:\n",
    "                return row[0] + (num - row[1])\n",
    "        return num\n",
    "\n",
    "def make_seed_maps(instructions_list):\n",
    "    map_holder = []\n",
    "    current_name = \"\"\n",
    "    current_container = []\n",
    "    for l in instructions_list[2:]:\n",
    "        if not l:\n",
    "            map_holder.append(SeedMap(current_name,current_container))\n",
    "        elif l[0].isalpha():\n",
    "            current_name = l\n",
    "            current_container = []\n",
    "        elif l[0].isnumeric():\n",
    "            current_container.append(l)\n",
    "    map_holder.append(SeedMap(current_name,current_container))\n",
    "    return map_holder\n",
    "\n",
    "\n",
    "def part1(instructions):\n",
    "    # get seed nums\n",
    "    # foor each group of instructions, make a mapper function\n",
    "    instructions_list = instructions.split(\"\\n\")\n",
    "    seeds = [int(s) for s in instructions_list[0].split(\":\")[1].strip().split(\" \")]\n",
    "    seed_maps_list = make_seed_maps(instructions_list)\n",
    "    final_outputs = []\n",
    "    for seed in seeds:\n",
    "        s_num = seed\n",
    "        for m in seed_maps_list:\n",
    "            s_num = m.translate(s_num)\n",
    "        final_outputs.append(s_num)\n",
    "    return min(final_outputs)\n",
    "\n"
   ]
  },
  {
   "cell_type": "code",
   "execution_count": 8,
   "metadata": {},
   "outputs": [
    {
     "data": {
      "text/plain": [
       "35"
      ]
     },
     "execution_count": 8,
     "metadata": {},
     "output_type": "execute_result"
    }
   ],
   "source": [
    "part1(test_input) # translations are 82, 43, 86, 35 - 35 is answer "
   ]
  },
  {
   "cell_type": "code",
   "execution_count": 9,
   "metadata": {},
   "outputs": [],
   "source": [
    "with open(\"day5input.txt\",\"r\") as f:\n",
    "    real_input = f.read()"
   ]
  },
  {
   "cell_type": "code",
   "execution_count": 10,
   "metadata": {},
   "outputs": [
    {
     "data": {
      "text/plain": [
       "457535844"
      ]
     },
     "execution_count": 10,
     "metadata": {},
     "output_type": "execute_result"
    }
   ],
   "source": [
    "part1(real_input)"
   ]
  },
  {
   "cell_type": "markdown",
   "metadata": {},
   "source": [
    "## Part 2\n",
    "same, but the seed number line is actually a list of two-ples. THe first is a start number, the second is a range, inclusive. still report the lowest num.\n",
    "\n",
    "hmm... the second numbers are in the scale of millions (up to 100M). Might not be able to brute force this one. Gotta think a bit."
   ]
  },
  {
   "cell_type": "code",
   "execution_count": null,
   "metadata": {},
   "outputs": [],
   "source": [
    "def fix_seeds(seeds):\n",
    "    all_seeds = []\n",
    "    for i in range(0,len(seeds),2):\n",
    "        s1 = seeds[i]\n",
    "        s2\n",
    "\n",
    "def part2(instructions):\n",
    "    # get seed nums\n",
    "    # foor each group of instructions, make a mapper function\n",
    "    instructions_list = instructions.split(\"\\n\")\n",
    "    seeds = [int(s) for s in instructions_list[0].split(\":\")[1].strip().split(\" \")]\n",
    "    seeds = fix_seeds(seeds)\n",
    "    seed_maps_list = make_seed_maps(instructions_list)\n",
    "    final_outputs = []\n",
    "    for seed in seeds:\n",
    "        s_num = seed\n",
    "        for m in seed_maps_list:\n",
    "            s_num = m.translate(s_num)\n",
    "        final_outputs.append(s_num)\n",
    "    return min(final_outputs)"
   ]
  }
 ],
 "metadata": {
  "kernelspec": {
   "display_name": "venv",
   "language": "python",
   "name": "python3"
  },
  "language_info": {
   "codemirror_mode": {
    "name": "ipython",
    "version": 3
   },
   "file_extension": ".py",
   "mimetype": "text/x-python",
   "name": "python",
   "nbconvert_exporter": "python",
   "pygments_lexer": "ipython3",
   "version": "3.10.5"
  }
 },
 "nbformat": 4,
 "nbformat_minor": 2
}
