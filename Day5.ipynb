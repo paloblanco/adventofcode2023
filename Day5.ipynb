{
 "cells": [
  {
   "cell_type": "markdown",
   "metadata": {},
   "source": [
    "# Day 5\n",
    "\n",
    "Tets input:\n",
    "\n",
    "```\n",
    "seeds: 79 14 55 13\n",
    "\n",
    "seed-to-soil map:\n",
    "50 98 2\n",
    "52 50 48\n",
    "\n",
    "soil-to-fertilizer map:\n",
    "0 15 37\n",
    "37 52 2\n",
    "39 0 15\n",
    "\n",
    "fertilizer-to-water map:\n",
    "49 53 8\n",
    "0 11 42\n",
    "42 0 7\n",
    "57 7 4\n",
    "\n",
    "water-to-light map:\n",
    "88 18 7\n",
    "18 25 70\n",
    "\n",
    "light-to-temperature map:\n",
    "45 77 23\n",
    "81 45 19\n",
    "68 64 13\n",
    "\n",
    "temperature-to-humidity map:\n",
    "0 69 1\n",
    "1 0 69\n",
    "\n",
    "humidity-to-location map:\n",
    "60 56 37\n",
    "56 93 4\n",
    "```\n",
    "\n",
    "You basically need to create a series of mapping functions to go all the way from seed number to location. Report the lowest location. In the real input, numbers get huge."
   ]
  },
  {
   "cell_type": "code",
   "execution_count": 1,
   "metadata": {},
   "outputs": [],
   "source": [
    "test_input = \"\"\"seeds: 79 14 55 13\n",
    "\n",
    "seed-to-soil map:\n",
    "50 98 2\n",
    "52 50 48\n",
    "\n",
    "soil-to-fertilizer map:\n",
    "0 15 37\n",
    "37 52 2\n",
    "39 0 15\n",
    "\n",
    "fertilizer-to-water map:\n",
    "49 53 8\n",
    "0 11 42\n",
    "42 0 7\n",
    "57 7 4\n",
    "\n",
    "water-to-light map:\n",
    "88 18 7\n",
    "18 25 70\n",
    "\n",
    "light-to-temperature map:\n",
    "45 77 23\n",
    "81 45 19\n",
    "68 64 13\n",
    "\n",
    "temperature-to-humidity map:\n",
    "0 69 1\n",
    "1 0 69\n",
    "\n",
    "humidity-to-location map:\n",
    "60 56 37\n",
    "56 93 4\"\"\""
   ]
  },
  {
   "cell_type": "code",
   "execution_count": 2,
   "metadata": {},
   "outputs": [
    {
     "data": {
      "text/plain": [
       "False"
      ]
     },
     "execution_count": 2,
     "metadata": {},
     "output_type": "execute_result"
    }
   ],
   "source": [
    "\"\".isspace()"
   ]
  },
  {
   "cell_type": "code",
   "execution_count": 3,
   "metadata": {},
   "outputs": [],
   "source": [
    "# create a \"mapper\" class. This will be easier than using a dict. A mapper will take inputs from the statement and output numbers correctly.\n",
    "\n",
    "class SeedMap:\n",
    "    def __init__(self, name, container):\n",
    "        self.name = name\n",
    "        container = [[int(e) for e in line.split(\" \")] for line in container]\n",
    "        self.container = container\n",
    "\n",
    "    def translate(self,num):\n",
    "        for row in self.container:\n",
    "            if num >= row[1] and num < row[1] + row[2]:\n",
    "                return row[0] + (num - row[1])\n",
    "        return num\n",
    "\n",
    "def make_seed_maps(instructions_list):\n",
    "    map_holder = []\n",
    "    current_name = \"\"\n",
    "    current_container = []\n",
    "    for l in instructions_list[2:]:\n",
    "        if not l:\n",
    "            map_holder.append(SeedMap(current_name,current_container))\n",
    "        elif l[0].isalpha():\n",
    "            current_name = l\n",
    "            current_container = []\n",
    "        elif l[0].isnumeric():\n",
    "            current_container.append(l)\n",
    "    map_holder.append(SeedMap(current_name,current_container))\n",
    "    return map_holder\n",
    "\n",
    "\n",
    "def part1(instructions):\n",
    "    # get seed nums\n",
    "    # foor each group of instructions, make a mapper function\n",
    "    instructions_list = instructions.split(\"\\n\")\n",
    "    seeds = [int(s) for s in instructions_list[0].split(\":\")[1].strip().split(\" \")]\n",
    "    seed_maps_list = make_seed_maps(instructions_list)\n",
    "    final_outputs = []\n",
    "    for seed in seeds:\n",
    "        s_num = seed\n",
    "        for m in seed_maps_list:\n",
    "            s_num = m.translate(s_num)\n",
    "        final_outputs.append(s_num)\n",
    "    return min(final_outputs)\n",
    "\n"
   ]
  },
  {
   "cell_type": "code",
   "execution_count": 4,
   "metadata": {},
   "outputs": [
    {
     "data": {
      "text/plain": [
       "35"
      ]
     },
     "execution_count": 4,
     "metadata": {},
     "output_type": "execute_result"
    }
   ],
   "source": [
    "part1(test_input) # translations are 82, 43, 86, 35 - 35 is answer "
   ]
  },
  {
   "cell_type": "code",
   "execution_count": 5,
   "metadata": {},
   "outputs": [],
   "source": [
    "with open(\"day5input.txt\",\"r\") as f:\n",
    "    real_input = f.read()"
   ]
  },
  {
   "cell_type": "code",
   "execution_count": 6,
   "metadata": {},
   "outputs": [
    {
     "data": {
      "text/plain": [
       "457535844"
      ]
     },
     "execution_count": 6,
     "metadata": {},
     "output_type": "execute_result"
    }
   ],
   "source": [
    "part1(real_input)"
   ]
  },
  {
   "cell_type": "markdown",
   "metadata": {},
   "source": [
    "## Part 2\n",
    "same, but the seed number line is actually a list of two-ples. THe first is a start number, the second is a range, inclusive. still report the lowest num.\n",
    "\n",
    "hmm... the second numbers are in the scale of millions (up to 100M). Might not be able to brute force this one. Gotta think a bit... ok. gotta make a \"range\" "
   ]
  },
  {
   "cell_type": "code",
   "execution_count": 50,
   "metadata": {},
   "outputs": [],
   "source": [
    "class SeedRange:\n",
    "    def __init__(self, start, length):\n",
    "        self.start = start\n",
    "        self.length = length\n",
    "        self.end = start+length-1\n",
    "\n",
    "    def __str__(self):\n",
    "        return f\"{self.start}  {self.length}\"\n",
    "\n",
    "    def __repr__(self):\n",
    "        return self.__str__()\n",
    "\n",
    "class SeedMap:\n",
    "    def __init__(self, name, container):\n",
    "        self.name = name\n",
    "        container = [[int(e) for e in line.split(\" \")] for line in container] \n",
    "        self.container = container #0 is destination, #1 is  source, 2 is range\n",
    "\n",
    "    def translate_single(self,num):\n",
    "        for row in self.container:\n",
    "            if num >= row[1] and num < row[1] + row[2]:\n",
    "                return row[0] + (num - row[1])\n",
    "        return num\n",
    "\n",
    "    def translate_range(self, sr: SeedRange) -> list[SeedRange]:\n",
    "        seed_range_holder = [sr,]\n",
    "        for row in self.container:\n",
    "            new_holder = []\n",
    "            for srange in seed_range_holder:\n",
    "                \n",
    "                if srange.end < row[1]:\n",
    "                    new_holder.append(srange)\n",
    "                elif srange.start > row[1]+row[2] - 1:\n",
    "                    new_holder.append(srange)\n",
    "                \n",
    "                elif srange.start < row[1] and srange.end < row[1] + row[2]:\n",
    "                    new_holder.append(SeedRange(srange.start,row[1]-srange.start)) #ok\n",
    "                    new_holder.append(SeedRange(row[0],srange.end - row[1] + 1))\n",
    "                    \n",
    "                elif srange.start < row[1] and srange.end >= row[1] + row[2]:\n",
    "                    new_holder.append(SeedRange(srange.start,row[1]-srange.start))\n",
    "                    new_holder.append(SeedRange(row[0],row[2]))\n",
    "                    new_holder.append(SeedRange(row[1]+row[2], srange.end - (row[1]+row[2]) + 1))\n",
    "                \n",
    "                elif srange.start < row[1]+row[2] and srange.end >= row[1] + row[2]:\n",
    "                    new_holder.append(SeedRange(row[0]+(srange.start-row[1]),row[1]+row[2] - srange.start))\n",
    "                    new_holder.append(SeedRange(row[1]+row[2], srange.end - (row[1]+row[2])))\n",
    "                \n",
    "                elif srange.start > row[1] and srange.start+srange.length <= row[1]+row[2]:\n",
    "                    new_holder.append(SeedRange(row[0]+(srange.start-row[1]),srange.length))\n",
    "            \n",
    "            seed_range_holder = new_holder\n",
    "            # print(new_holder)\n",
    "        return seed_range_holder\n",
    "\n",
    "\n",
    "def fix_seeds(seeds):\n",
    "    all_seeds = []\n",
    "    for i in range(0,len(seeds),2):\n",
    "        s1 = seeds[i]\n",
    "        s2 = seeds[i+1]\n",
    "        all_seeds.append(SeedRange(s1,s2))\n",
    "    return all_seeds\n",
    "\n",
    "def part2(instructions):\n",
    "    # get seed nums\n",
    "    # foor each group of instructions, make a mapper function\n",
    "    instructions_list = instructions.split(\"\\n\")\n",
    "    seeds = [int(s) for s in instructions_list[0].split(\":\")[1].strip().split(\" \")]\n",
    "    seeds = fix_seeds(seeds)\n",
    "    seed_maps_list = make_seed_maps(instructions_list)\n",
    "    final_outputs = []\n",
    "    for seed in seeds:\n",
    "        seed_container = [seed,]\n",
    "        for m in seed_maps_list:\n",
    "            new_container = []\n",
    "            for s in seed_container:\n",
    "                new_container += m.translate_range(s)\n",
    "            seed_container = new_container\n",
    "        final_outputs += [s.start for s in seed_container]\n",
    "    return min(final_outputs)"
   ]
  },
  {
   "cell_type": "code",
   "execution_count": 53,
   "metadata": {},
   "outputs": [
    {
     "data": {
      "text/plain": [
       "57"
      ]
     },
     "execution_count": 53,
     "metadata": {},
     "output_type": "execute_result"
    }
   ],
   "source": [
    "part2(test_input) #46"
   ]
  },
  {
   "cell_type": "code",
   "execution_count": 52,
   "metadata": {},
   "outputs": [
    {
     "data": {
      "text/plain": [
       "11992204"
      ]
     },
     "execution_count": 52,
     "metadata": {},
     "output_type": "execute_result"
    }
   ],
   "source": [
    "part2(real_input)"
   ]
  },
  {
   "cell_type": "code",
   "execution_count": null,
   "metadata": {},
   "outputs": [],
   "source": [
    "# 3179822 too low\n",
    "# 11992204 to low"
   ]
  }
 ],
 "metadata": {
  "kernelspec": {
   "display_name": "Python 3 (ipykernel)",
   "language": "python",
   "name": "python3"
  },
  "language_info": {
   "codemirror_mode": {
    "name": "ipython",
    "version": 3
   },
   "file_extension": ".py",
   "mimetype": "text/x-python",
   "name": "python",
   "nbconvert_exporter": "python",
   "pygments_lexer": "ipython3",
   "version": "3.10.4"
  }
 },
 "nbformat": 4,
 "nbformat_minor": 4
}
