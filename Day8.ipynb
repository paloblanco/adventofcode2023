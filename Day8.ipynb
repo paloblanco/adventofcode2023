{
 "cells": [
  {
   "cell_type": "markdown",
   "id": "cf798950-67bb-4354-993b-7ddb5577dcf3",
   "metadata": {},
   "source": [
    "# Day 8\n",
    "<p>Starting with <code>AAA</code>, you need to <em>look up the next element</em> based on the next left/right instruction in your input. In this example, start with <code>AAA</code> and go <em>right</em> (<code>R</code>) by choosing the right element of <code>AAA</code>, <code><em>CCC</em></code>. Then, <code>L</code> means to choose the <em>left</em> element of <code>CCC</code>, <code><em>ZZZ</em></code>. By following the left/right instructions, you reach <code>ZZZ</code> in <code><em>2</em></code> steps.</p>\r\n",
    "<p>Of course, you might not find <code>ZZZ</code> right away. If you run out of left/right instructions, repeat the whole sequence of instructions as necessary: <code>RL</code> really means <code>RLRLRLRLRLRLRLRL...</code> and so on. For example, here is a situation that takes <code><em>6</em></code> steps to reach <code>ZZZ</code>:</p>\r\n",
    "<pre><code>LLR\r\n",
    "\r\n",
    "AAA = (BBB, BBB)\r\n",
    "BBB = (AAA, ZZZ)\r\n",
    "ZZZ = (ZZZ, ZZZ)\r\n",
    "</code></pre>\r\n",
    "<p>Starting at <code>AAA</code>, follow the left/right instructions. <em>How many steps are required to reach <code>ZZZ</code>?</em></p>"
   ]
  },
  {
   "cell_type": "code",
   "execution_count": 1,
   "id": "6237d0e6-b067-4206-9bc8-f44e71877066",
   "metadata": {},
   "outputs": [],
   "source": [
    "test_input = \"\"\"LLR\n",
    "\n",
    "AAA = (BBB, BBB)\n",
    "BBB = (AAA, ZZZ)\n",
    "ZZZ = (ZZZ, ZZZ)\"\"\""
   ]
  },
  {
   "cell_type": "code",
   "execution_count": 12,
   "id": "28d8411a-c9ff-4b49-aeba-bad2f6eb92cc",
   "metadata": {},
   "outputs": [],
   "source": [
    "from itertools import cycle\n",
    "from dataclasses import dataclass\n",
    "import re\n",
    "\n",
    "@dataclass\n",
    "class Node:\n",
    "    id: str\n",
    "    leftname: str\n",
    "    rightname: str\n",
    "    left: 'Node' = None\n",
    "    right: 'Node' = None\n",
    "\n",
    "    def add_left(self, other: 'Node') -> None:\n",
    "        self.left = other\n",
    "\n",
    "    def add_right(self, other: 'Node') -> None:\n",
    "        self.right = other\n",
    "\n",
    "    def __str__(self) -> str:\n",
    "        return f\"{self.id} - [{self.leftname}, {self.rightname}]\"\n",
    "\n",
    "    def __repr__(self) -> str:\n",
    "        return self.__str__()\n",
    "    \n",
    "\n",
    "def part1(instructions):\n",
    "    left_right = cycle(list(instructions.split(\"\\n\")[0].strip()))\n",
    "    nodelookup = {}\n",
    "    for l in instructions.split(\"\\n\")[2:]:\n",
    "        n1,n2,n3 = re.findall(\"(\\w{3}) = \\((\\w{3})\\, (\\w{3})\\)\",l)[0]\n",
    "        nodelookup[n1] = Node(n1,n2,n3)\n",
    "    for id,n in nodelookup.items():\n",
    "        n.add_left(nodelookup[n.leftname])\n",
    "        n.add_right(nodelookup[n.rightname])\n",
    "    my_node = \"AAA\"\n",
    "    step_count = 0\n",
    "    while True:\n",
    "        step_count += 1\n",
    "        lr = next(left_right)\n",
    "        if lr==\"L\":\n",
    "            my_node = nodelookup[my_node].left.id\n",
    "        else:\n",
    "            my_node = nodelookup[my_node].right.id\n",
    "        if my_node == \"ZZZ\":\n",
    "            return step_count\n",
    "    "
   ]
  },
  {
   "cell_type": "code",
   "execution_count": 13,
   "id": "bab1946d-0487-4c85-bc63-00d9b8b10888",
   "metadata": {},
   "outputs": [
    {
     "data": {
      "text/plain": [
       "6"
      ]
     },
     "execution_count": 13,
     "metadata": {},
     "output_type": "execute_result"
    }
   ],
   "source": [
    "part1(test_input)"
   ]
  },
  {
   "cell_type": "code",
   "execution_count": 14,
   "id": "f3b3378f-4b12-44e5-87b4-451af0f8a31a",
   "metadata": {},
   "outputs": [],
   "source": [
    "with open(\"day8input.txt\",\"r\") as f:\n",
    "    real_input = f.read()"
   ]
  },
  {
   "cell_type": "code",
   "execution_count": 15,
   "id": "52fa4d06-f7ce-4773-a1e7-3586b01da991",
   "metadata": {},
   "outputs": [
    {
     "data": {
      "text/plain": [
       "17141"
      ]
     },
     "execution_count": 15,
     "metadata": {},
     "output_type": "execute_result"
    }
   ],
   "source": [
    "part1(real_input)"
   ]
  },
  {
   "cell_type": "code",
   "execution_count": 26,
   "id": "0fcb31c1-0630-4c0b-9861-8272f51c440a",
   "metadata": {},
   "outputs": [],
   "source": [
    "def part2(instructions):\n",
    "    left_right = cycle(list(instructions.split(\"\\n\")[0].strip()))\n",
    "    nodelookup = {}\n",
    "    for l in instructions.split(\"\\n\")[2:]:\n",
    "        n1,n2,n3 = re.findall(\"(\\w{3}) = \\((\\w{3})\\, (\\w{3})\\)\",l)[0]\n",
    "        nodelookup[n1] = Node(n1,n2,n3)\n",
    "    for id,n in nodelookup.items():\n",
    "        n.add_left(nodelookup[n.leftname])\n",
    "        n.add_right(nodelookup[n.rightname])\n",
    "    node_ids = []\n",
    "    for id in nodelookup.keys():\n",
    "        if id[2]==\"A\":\n",
    "            node_ids.append(id)\n",
    "    step_count = 0\n",
    "    while True:\n",
    "        step_count += 1\n",
    "        lr = next(left_right)\n",
    "        new_ids = []\n",
    "        if lr==\"L\":\n",
    "            for my_node in node_ids:\n",
    "                my_node = nodelookup[my_node].left.id\n",
    "                new_ids.append(my_node)\n",
    "        else:\n",
    "            for my_node in node_ids:\n",
    "                my_node = nodelookup[my_node].right.id\n",
    "                new_ids.append(my_node)\n",
    "        correct = True\n",
    "        node_ids = [i for i in new_ids]\n",
    "        for my_node in node_ids:\n",
    "            if my_node[2] != \"Z\": correct = False\n",
    "        if correct: \n",
    "            return step_count\n",
    "\n",
    "def part2_by_cycle(instructions):\n",
    "    left_right = cycle(list(instructions.split(\"\\n\")[0].strip()))\n",
    "    nodelookup = {}\n",
    "    for l in instructions.split(\"\\n\")[2:]:\n",
    "        n1,n2,n3 = re.findall(\"(\\w{3}) = \\((\\w{3})\\, (\\w{3})\\)\",l)[0]\n",
    "        nodelookup[n1] = Node(n1,n2,n3)\n",
    "    for id,n in nodelookup.items():\n",
    "        n.add_left(nodelookup[n.leftname])\n",
    "        n.add_right(nodelookup[n.rightname])\n",
    "    node_ids = []\n",
    "    for id in nodelookup.keys():\n",
    "        if id[2]==\"A\":\n",
    "            node_ids.append(id)\n",
    "    starts_and_cycles = []\n",
    "    for id in node_ids:\n",
    "        s, c = get_start_and_cycle(id,nodelookup)\n",
    "        starts_and_cycles.append([s,c])\n",
    "    vals = [e[0] for e in starts_and_cycles]\n",
    "    "
   ]
  },
  {
   "cell_type": "code",
   "execution_count": 27,
   "id": "bb05898e-95e1-4d4e-b010-be4efd122441",
   "metadata": {},
   "outputs": [],
   "source": [
    "test2 = \"\"\"LR\n",
    "\n",
    "11A = (11B, XXX)\n",
    "11B = (XXX, 11Z)\n",
    "11Z = (11B, XXX)\n",
    "22A = (22B, XXX)\n",
    "22B = (22C, 22C)\n",
    "22C = (22Z, 22Z)\n",
    "22Z = (22B, 22B)\n",
    "XXX = (XXX, XXX)\"\"\""
   ]
  },
  {
   "cell_type": "code",
   "execution_count": 28,
   "id": "5f2af8d1-9484-4745-842b-0b97a30185aa",
   "metadata": {},
   "outputs": [
    {
     "data": {
      "text/plain": [
       "6"
      ]
     },
     "execution_count": 28,
     "metadata": {},
     "output_type": "execute_result"
    }
   ],
   "source": [
    "part2(test2)"
   ]
  },
  {
   "cell_type": "code",
   "execution_count": 29,
   "id": "a35a6fb3-80d8-40b6-a11e-da525c4dfd31",
   "metadata": {},
   "outputs": [
    {
     "name": "stdout",
     "output_type": "stream",
     "text": [
      "Unexpected exception formatting exception. Falling back to standard exception\n"
     ]
    },
    {
     "name": "stderr",
     "output_type": "stream",
     "text": [
      "Traceback (most recent call last):\n",
      "  File \"C:\\Users\\panel\\AppData\\Local\\Programs\\Python\\Python310\\lib\\site-packages\\IPython\\core\\interactiveshell.py\", line 3550, in run_code\n",
      "    exec(code_obj, self.user_global_ns, self.user_ns)\n",
      "  File \"C:\\Users\\panel\\AppData\\Local\\Temp\\ipykernel_18048\\3864336162.py\", line 1, in <module>\n",
      "    part2(real_input)\n",
      "  File \"C:\\Users\\panel\\AppData\\Local\\Temp\\ipykernel_18048\\2625161077.py\", line -1, in part2\n",
      "KeyboardInterrupt\n",
      "\n",
      "During handling of the above exception, another exception occurred:\n",
      "\n",
      "Traceback (most recent call last):\n",
      "  File \"C:\\Users\\panel\\AppData\\Local\\Programs\\Python\\Python310\\lib\\site-packages\\IPython\\core\\interactiveshell.py\", line 2144, in showtraceback\n",
      "    stb = self.InteractiveTB.structured_traceback(\n",
      "  File \"C:\\Users\\panel\\AppData\\Local\\Programs\\Python\\Python310\\lib\\site-packages\\IPython\\core\\ultratb.py\", line 1435, in structured_traceback\n",
      "    return FormattedTB.structured_traceback(\n",
      "  File \"C:\\Users\\panel\\AppData\\Local\\Programs\\Python\\Python310\\lib\\site-packages\\IPython\\core\\ultratb.py\", line 1326, in structured_traceback\n",
      "    return VerboseTB.structured_traceback(\n",
      "  File \"C:\\Users\\panel\\AppData\\Local\\Programs\\Python\\Python310\\lib\\site-packages\\IPython\\core\\ultratb.py\", line 1173, in structured_traceback\n",
      "    formatted_exception = self.format_exception_as_a_whole(etype, evalue, etb, number_of_lines_of_context,\n",
      "  File \"C:\\Users\\panel\\AppData\\Local\\Programs\\Python\\Python310\\lib\\site-packages\\IPython\\core\\ultratb.py\", line 1088, in format_exception_as_a_whole\n",
      "    frames.append(self.format_record(record))\n",
      "  File \"C:\\Users\\panel\\AppData\\Local\\Programs\\Python\\Python310\\lib\\site-packages\\IPython\\core\\ultratb.py\", line 970, in format_record\n",
      "    frame_info.lines, Colors, self.has_colors, lvals\n",
      "  File \"C:\\Users\\panel\\AppData\\Local\\Programs\\Python\\Python310\\lib\\site-packages\\IPython\\core\\ultratb.py\", line 792, in lines\n",
      "    return self._sd.lines\n",
      "  File \"C:\\Users\\panel\\AppData\\Local\\Programs\\Python\\Python310\\lib\\site-packages\\stack_data\\utils.py\", line 145, in cached_property_wrapper\n",
      "    value = obj.__dict__[self.func.__name__] = self.func(obj)\n",
      "  File \"C:\\Users\\panel\\AppData\\Local\\Programs\\Python\\Python310\\lib\\site-packages\\stack_data\\core.py\", line 734, in lines\n",
      "    pieces = self.included_pieces\n",
      "  File \"C:\\Users\\panel\\AppData\\Local\\Programs\\Python\\Python310\\lib\\site-packages\\stack_data\\utils.py\", line 145, in cached_property_wrapper\n",
      "    value = obj.__dict__[self.func.__name__] = self.func(obj)\n",
      "  File \"C:\\Users\\panel\\AppData\\Local\\Programs\\Python\\Python310\\lib\\site-packages\\stack_data\\core.py\", line 681, in included_pieces\n",
      "    pos = scope_pieces.index(self.executing_piece)\n",
      "  File \"C:\\Users\\panel\\AppData\\Local\\Programs\\Python\\Python310\\lib\\site-packages\\stack_data\\utils.py\", line 145, in cached_property_wrapper\n",
      "    value = obj.__dict__[self.func.__name__] = self.func(obj)\n",
      "  File \"C:\\Users\\panel\\AppData\\Local\\Programs\\Python\\Python310\\lib\\site-packages\\stack_data\\core.py\", line 660, in executing_piece\n",
      "    return only(\n",
      "  File \"C:\\Users\\panel\\AppData\\Local\\Programs\\Python\\Python310\\lib\\site-packages\\executing\\executing.py\", line 116, in only\n",
      "    raise NotOneValueFound('Expected one value, found 0')\n",
      "executing.executing.NotOneValueFound: Expected one value, found 0\n"
     ]
    }
   ],
   "source": [
    "part2(real_input)"
   ]
  },
  {
   "cell_type": "code",
   "execution_count": null,
   "id": "fde3da9a-5229-4238-b5ea-f303c4dd5b59",
   "metadata": {},
   "outputs": [],
   "source": []
  }
 ],
 "metadata": {
  "kernelspec": {
   "display_name": "Python 3 (ipykernel)",
   "language": "python",
   "name": "python3"
  },
  "language_info": {
   "codemirror_mode": {
    "name": "ipython",
    "version": 3
   },
   "file_extension": ".py",
   "mimetype": "text/x-python",
   "name": "python",
   "nbconvert_exporter": "python",
   "pygments_lexer": "ipython3",
   "version": "3.10.4"
  }
 },
 "nbformat": 4,
 "nbformat_minor": 5
}
