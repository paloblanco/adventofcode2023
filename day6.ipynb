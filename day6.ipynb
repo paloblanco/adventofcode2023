{
 "cells": [
  {
   "cell_type": "markdown",
   "metadata": {},
   "source": [
    "# Day 6\n",
    "\n",
    "EVery second you hold the button, you gain 1mm/ms. How many different ways can you win the races?\n",
    "\n",
    "multiply those values together"
   ]
  },
  {
   "cell_type": "code",
   "execution_count": 3,
   "metadata": {},
   "outputs": [],
   "source": [
    "test_input = \"\"\"Time:      7  15   30\n",
    "Distance:  9  40  200\"\"\""
   ]
  },
  {
   "cell_type": "code",
   "execution_count": 4,
   "metadata": {},
   "outputs": [],
   "source": [
    "import re\n",
    "from math import prod\n",
    "\n",
    "def times_and_distances_from_input(s):\n",
    "    times = s.split(\"\\n\")[0]\n",
    "    times = [int(e) for e in re.findall(\"\\s+(\\d+)\",times)]\n",
    "    distances = s.split(\"\\n\")[1]\n",
    "    distances = [int(e) for e in re.findall(\"\\s+(\\d+)\",distances)]\n",
    "    return times, distances\n",
    "\n",
    "# def get_ds_from_time(t):\n",
    "#     ds = []\n",
    "#     for tt in range(tt+1):\n",
    "#         speed = t\n",
    "#         d = speed * t-tt\n",
    "#         ds.append(d)\n",
    "#     return ds\n",
    "\n",
    "def part1(times_string):\n",
    "    times, distances = times_and_distances_from_input(times_string)\n",
    "    win_holder = []\n",
    "    for t,d in zip(times, distances):\n",
    "        wincount = 0\n",
    "        for tt in range(t):\n",
    "            speed = tt\n",
    "            dd = speed * (t-tt)\n",
    "            if dd>d: wincount += 1\n",
    "        win_holder.append(wincount)\n",
    "    return prod(win_holder)\n"
   ]
  },
  {
   "cell_type": "code",
   "execution_count": 5,
   "metadata": {},
   "outputs": [
    {
     "data": {
      "text/plain": [
       "288"
      ]
     },
     "execution_count": 5,
     "metadata": {},
     "output_type": "execute_result"
    }
   ],
   "source": [
    "part1(test_input) # should be 288"
   ]
  },
  {
   "cell_type": "code",
   "execution_count": 6,
   "metadata": {},
   "outputs": [],
   "source": [
    "with open(\"day6input.txt\",\"r\") as f:\n",
    "    real_input = f.read()"
   ]
  },
  {
   "cell_type": "code",
   "execution_count": 7,
   "metadata": {},
   "outputs": [
    {
     "data": {
      "text/plain": [
       "4811940"
      ]
     },
     "execution_count": 7,
     "metadata": {},
     "output_type": "execute_result"
    }
   ],
   "source": [
    "part1(real_input)"
   ]
  },
  {
   "cell_type": "code",
   "execution_count": 9,
   "metadata": {},
   "outputs": [
    {
     "data": {
      "text/plain": [
       "71503"
      ]
     },
     "execution_count": 9,
     "metadata": {},
     "output_type": "execute_result"
    }
   ],
   "source": [
    "def times_and_distances_from_input(s):\n",
    "    times = s.split(\"\\n\")[0]\n",
    "    times = int(''.join([l for l in times if l.isnumeric()]))\n",
    "    distances = s.split(\"\\n\")[1]\n",
    "    distances = int(''.join([l for l in distances if l.isnumeric()]))\n",
    "    return [times, ], [distances,]\n",
    "\n",
    "part1(test_input) # 71503 "
   ]
  },
  {
   "cell_type": "code",
   "execution_count": 10,
   "metadata": {},
   "outputs": [
    {
     "data": {
      "text/plain": [
       "30077773"
      ]
     },
     "execution_count": 10,
     "metadata": {},
     "output_type": "execute_result"
    }
   ],
   "source": [
    "part1(real_input)"
   ]
  },
  {
   "cell_type": "code",
   "execution_count": null,
   "metadata": {},
   "outputs": [],
   "source": []
  }
 ],
 "metadata": {
  "kernelspec": {
   "display_name": "venv",
   "language": "python",
   "name": "python3"
  },
  "language_info": {
   "codemirror_mode": {
    "name": "ipython",
    "version": 3
   },
   "file_extension": ".py",
   "mimetype": "text/x-python",
   "name": "python",
   "nbconvert_exporter": "python",
   "pygments_lexer": "ipython3",
   "version": "3.10.5"
  }
 },
 "nbformat": 4,
 "nbformat_minor": 2
}
